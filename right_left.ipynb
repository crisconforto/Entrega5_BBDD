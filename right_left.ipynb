{
  "nbformat": 4,
  "nbformat_minor": 0,
  "metadata": {
    "colab": {
      "name": "right_left.ipynb",
      "provenance": [],
      "authorship_tag": "ABX9TyNO5JKOet7tkpAdheGLoEMt",
      "include_colab_link": true
    },
    "kernelspec": {
      "name": "python3",
      "display_name": "Python 3"
    },
    "language_info": {
      "name": "python"
    }
  },
  "cells": [
    {
      "cell_type": "markdown",
      "metadata": {
        "id": "view-in-github",
        "colab_type": "text"
      },
      "source": [
        "<a href=\"https://colab.research.google.com/github/crisconforto/Entrega5_BBDD/blob/master/right_left.ipynb\" target=\"_parent\"><img src=\"https://colab.research.google.com/assets/colab-badge.svg\" alt=\"Open In Colab\"/></a>"
      ]
    },
    {
      "cell_type": "markdown",
      "source": [
        "## **Diferenciar entre pie derecho y pie izquierdo**"
      ],
      "metadata": {
        "id": "1NSOmI4uX4zc"
      }
    },
    {
      "cell_type": "markdown",
      "source": [
        "Import libs"
      ],
      "metadata": {
        "id": "AbXLRhslNbtf"
      }
    },
    {
      "cell_type": "code",
      "source": [
        "import pandas as pd\n",
        "import matplotlib.pyplot as plt\n",
        "from mpl_toolkits import mplot3d\n",
        "%matplotlib inline\n",
        "import numpy as np\n",
        "import matplotlib.pyplot as plt\n",
        "import tensorflow as tf\n",
        "from tensorflow import keras\n",
        "from sklearn import preprocessing\n"
      ],
      "metadata": {
        "id": "sh83zFjVPD3m"
      },
      "execution_count": 1,
      "outputs": []
    },
    {
      "cell_type": "markdown",
      "source": [
        "Import data"
      ],
      "metadata": {
        "id": "nZtNE0bns7oc"
      }
    },
    {
      "cell_type": "code",
      "source": [
        "#import pyexcel as pe     # pip install pyexcel\n",
        "#import pyexcel.ext.xls   # pip install pyexcel-xls\n",
        "#var = pe.get_array(\"pie6_MovQuat.xlsx\") # done\n",
        "\n",
        "data = pd.read_excel(\"data.xlsx\").to_numpy()\n",
        "label = pd.read_excel(\"label.xlsx\").to_numpy()\n",
        "\n",
        "print(data.shape)\n",
        "print(label.size)"
      ],
      "metadata": {
        "id": "neSugeINPRHT",
        "colab": {
          "base_uri": "https://localhost:8080/"
        },
        "outputId": "bc4e72a7-7891-485c-a3d8-09573b6f4647"
      },
      "execution_count": 10,
      "outputs": [
        {
          "output_type": "stream",
          "name": "stdout",
          "text": [
            "(19623, 10)\n",
            "19623\n"
          ]
        }
      ]
    },
    {
      "cell_type": "markdown",
      "source": [
        "separate data"
      ],
      "metadata": {
        "id": "v7udpGsPs9Ok"
      }
    },
    {
      "cell_type": "code",
      "source": [
        "train_data = preprocessing.normalize(data[:13750,:]) #aprox 70%\n",
        "valid_data = preprocessing.normalize(data[13750:16700,:]) #aprox 15%\n",
        "test_data = preprocessing.normalize(data[16700:,:]) #aprox 15%\n",
        "\n",
        "train_label = label[:13750] #aprox 70%\n",
        "valid_label = label[13750:16700] #aprox 15%\n",
        "test_label = label[16700:] #aprox 15%\n",
        "\n",
        "\n",
        "print(train_data.shape)\n",
        "print(valid_data.shape)\n",
        "print(test_data.shape)\n",
        "\n",
        "print(train_label.shape)\n",
        "print(valid_label.shape)\n",
        "print(test_label.shape)"
      ],
      "metadata": {
        "id": "LwRdQDXhs368",
        "colab": {
          "base_uri": "https://localhost:8080/"
        },
        "outputId": "e7b9b440-72f5-4261-fbc5-1c6d68682c71"
      },
      "execution_count": 13,
      "outputs": [
        {
          "output_type": "stream",
          "name": "stdout",
          "text": [
            "(13750, 10)\n",
            "(2950, 10)\n",
            "(2923, 10)\n",
            "(13750, 1)\n",
            "(2950, 1)\n",
            "(2923, 1)\n"
          ]
        }
      ]
    },
    {
      "cell_type": "markdown",
      "source": [
        "Desing model"
      ],
      "metadata": {
        "id": "cwdcDY5EtGyU"
      }
    },
    {
      "cell_type": "code",
      "source": [
        "model = tf.keras.models.Sequential([tf.keras.layers.Dense(10, activation=tf.nn.softmax), \n",
        "                                    tf.keras.layers.Dense(100, activation=tf.nn.relu), \n",
        "                                    tf.keras.layers.Dense(2, activation=tf.nn.softmax)])"
      ],
      "metadata": {
        "id": "e_kQKWn9tJBa"
      },
      "execution_count": 14,
      "outputs": []
    },
    {
      "cell_type": "code",
      "source": [
        "model.compile(optimizer = tf.keras.optimizers.Adam(),\n",
        "              loss = 'sparse_categorical_crossentropy',\n",
        "              metrics=['accuracy'])\n",
        "\n",
        "model.fit(train_data, train_label, epochs=50, validation_data=(valid_data, valid_label))"
      ],
      "metadata": {
        "colab": {
          "base_uri": "https://localhost:8080/"
        },
        "id": "h_ZjMc6Zt4fw",
        "outputId": "41a48d90-63a8-41c2-e1cd-4adc16f17204"
      },
      "execution_count": 15,
      "outputs": [
        {
          "output_type": "stream",
          "name": "stdout",
          "text": [
            "Epoch 1/50\n",
            "430/430 [==============================] - 2s 2ms/step - loss: 0.6888 - accuracy: 0.5583 - val_loss: 0.6784 - val_accuracy: 0.5671\n",
            "Epoch 2/50\n",
            "430/430 [==============================] - 1s 2ms/step - loss: 0.6303 - accuracy: 0.7112 - val_loss: 0.5708 - val_accuracy: 0.7166\n",
            "Epoch 3/50\n",
            "430/430 [==============================] - 1s 2ms/step - loss: 0.5020 - accuracy: 0.8183 - val_loss: 0.4603 - val_accuracy: 0.8820\n",
            "Epoch 4/50\n",
            "430/430 [==============================] - 1s 2ms/step - loss: 0.4164 - accuracy: 0.8750 - val_loss: 0.4002 - val_accuracy: 0.8885\n",
            "Epoch 5/50\n",
            "430/430 [==============================] - 1s 2ms/step - loss: 0.3719 - accuracy: 0.8947 - val_loss: 0.3707 - val_accuracy: 0.8908\n",
            "Epoch 6/50\n",
            "430/430 [==============================] - 1s 2ms/step - loss: 0.3408 - accuracy: 0.9041 - val_loss: 0.3319 - val_accuracy: 0.9115\n",
            "Epoch 7/50\n",
            "430/430 [==============================] - 1s 2ms/step - loss: 0.3116 - accuracy: 0.9112 - val_loss: 0.2998 - val_accuracy: 0.9149\n",
            "Epoch 8/50\n",
            "430/430 [==============================] - 1s 2ms/step - loss: 0.2805 - accuracy: 0.9212 - val_loss: 0.2624 - val_accuracy: 0.9183\n",
            "Epoch 9/50\n",
            "430/430 [==============================] - 1s 2ms/step - loss: 0.2492 - accuracy: 0.9266 - val_loss: 0.2268 - val_accuracy: 0.9285\n",
            "Epoch 10/50\n",
            "430/430 [==============================] - 1s 2ms/step - loss: 0.2193 - accuracy: 0.9371 - val_loss: 0.2019 - val_accuracy: 0.9339\n",
            "Epoch 11/50\n",
            "430/430 [==============================] - 1s 2ms/step - loss: 0.1946 - accuracy: 0.9445 - val_loss: 0.1794 - val_accuracy: 0.9373\n",
            "Epoch 12/50\n",
            "430/430 [==============================] - 1s 2ms/step - loss: 0.1754 - accuracy: 0.9476 - val_loss: 0.1569 - val_accuracy: 0.9475\n",
            "Epoch 13/50\n",
            "430/430 [==============================] - 1s 2ms/step - loss: 0.1602 - accuracy: 0.9498 - val_loss: 0.1419 - val_accuracy: 0.9522\n",
            "Epoch 14/50\n",
            "430/430 [==============================] - 1s 2ms/step - loss: 0.1477 - accuracy: 0.9527 - val_loss: 0.1320 - val_accuracy: 0.9525\n",
            "Epoch 15/50\n",
            "430/430 [==============================] - 1s 2ms/step - loss: 0.1374 - accuracy: 0.9552 - val_loss: 0.1225 - val_accuracy: 0.9536\n",
            "Epoch 16/50\n",
            "430/430 [==============================] - 1s 2ms/step - loss: 0.1291 - accuracy: 0.9572 - val_loss: 0.1166 - val_accuracy: 0.9529\n",
            "Epoch 17/50\n",
            "430/430 [==============================] - 1s 2ms/step - loss: 0.1223 - accuracy: 0.9582 - val_loss: 0.1095 - val_accuracy: 0.9580\n",
            "Epoch 18/50\n",
            "430/430 [==============================] - 1s 2ms/step - loss: 0.1152 - accuracy: 0.9616 - val_loss: 0.1025 - val_accuracy: 0.9590\n",
            "Epoch 19/50\n",
            "430/430 [==============================] - 1s 2ms/step - loss: 0.1096 - accuracy: 0.9629 - val_loss: 0.0969 - val_accuracy: 0.9712\n",
            "Epoch 20/50\n",
            "430/430 [==============================] - 1s 2ms/step - loss: 0.1040 - accuracy: 0.9681 - val_loss: 0.1010 - val_accuracy: 0.9566\n",
            "Epoch 21/50\n",
            "430/430 [==============================] - 1s 2ms/step - loss: 0.0997 - accuracy: 0.9694 - val_loss: 0.0898 - val_accuracy: 0.9664\n",
            "Epoch 22/50\n",
            "430/430 [==============================] - 1s 2ms/step - loss: 0.0946 - accuracy: 0.9691 - val_loss: 0.0864 - val_accuracy: 0.9834\n",
            "Epoch 23/50\n",
            "430/430 [==============================] - 1s 2ms/step - loss: 0.0904 - accuracy: 0.9731 - val_loss: 0.0815 - val_accuracy: 0.9749\n",
            "Epoch 24/50\n",
            "430/430 [==============================] - 1s 2ms/step - loss: 0.0867 - accuracy: 0.9745 - val_loss: 0.0783 - val_accuracy: 0.9675\n",
            "Epoch 25/50\n",
            "430/430 [==============================] - 1s 2ms/step - loss: 0.0818 - accuracy: 0.9771 - val_loss: 0.0768 - val_accuracy: 0.9678\n",
            "Epoch 26/50\n",
            "430/430 [==============================] - 1s 2ms/step - loss: 0.0787 - accuracy: 0.9769 - val_loss: 0.0721 - val_accuracy: 0.9702\n",
            "Epoch 27/50\n",
            "430/430 [==============================] - 1s 2ms/step - loss: 0.0749 - accuracy: 0.9776 - val_loss: 0.0694 - val_accuracy: 0.9749\n",
            "Epoch 28/50\n",
            "430/430 [==============================] - 1s 2ms/step - loss: 0.0711 - accuracy: 0.9773 - val_loss: 0.0676 - val_accuracy: 0.9756\n",
            "Epoch 29/50\n",
            "430/430 [==============================] - 1s 2ms/step - loss: 0.0677 - accuracy: 0.9791 - val_loss: 0.0645 - val_accuracy: 0.9708\n",
            "Epoch 30/50\n",
            "430/430 [==============================] - 1s 2ms/step - loss: 0.0645 - accuracy: 0.9791 - val_loss: 0.0606 - val_accuracy: 0.9759\n",
            "Epoch 31/50\n",
            "430/430 [==============================] - 1s 2ms/step - loss: 0.0601 - accuracy: 0.9817 - val_loss: 0.0600 - val_accuracy: 0.9756\n",
            "Epoch 32/50\n",
            "430/430 [==============================] - 1s 2ms/step - loss: 0.0575 - accuracy: 0.9808 - val_loss: 0.0596 - val_accuracy: 0.9756\n",
            "Epoch 33/50\n",
            "430/430 [==============================] - 1s 2ms/step - loss: 0.0533 - accuracy: 0.9825 - val_loss: 0.0521 - val_accuracy: 0.9837\n",
            "Epoch 34/50\n",
            "430/430 [==============================] - 1s 2ms/step - loss: 0.0502 - accuracy: 0.9821 - val_loss: 0.0491 - val_accuracy: 0.9831\n",
            "Epoch 35/50\n",
            "430/430 [==============================] - 1s 2ms/step - loss: 0.0481 - accuracy: 0.9833 - val_loss: 0.0484 - val_accuracy: 0.9831\n",
            "Epoch 36/50\n",
            "430/430 [==============================] - 1s 2ms/step - loss: 0.0456 - accuracy: 0.9835 - val_loss: 0.0466 - val_accuracy: 0.9854\n",
            "Epoch 37/50\n",
            "430/430 [==============================] - 1s 2ms/step - loss: 0.0434 - accuracy: 0.9850 - val_loss: 0.0433 - val_accuracy: 0.9841\n",
            "Epoch 38/50\n",
            "430/430 [==============================] - 1s 3ms/step - loss: 0.0418 - accuracy: 0.9849 - val_loss: 0.0455 - val_accuracy: 0.9786\n",
            "Epoch 39/50\n",
            "430/430 [==============================] - 1s 3ms/step - loss: 0.0404 - accuracy: 0.9847 - val_loss: 0.0406 - val_accuracy: 0.9841\n",
            "Epoch 40/50\n",
            "430/430 [==============================] - 1s 2ms/step - loss: 0.0391 - accuracy: 0.9855 - val_loss: 0.0400 - val_accuracy: 0.9858\n",
            "Epoch 41/50\n",
            "430/430 [==============================] - 1s 2ms/step - loss: 0.0373 - accuracy: 0.9862 - val_loss: 0.0382 - val_accuracy: 0.9847\n",
            "Epoch 42/50\n",
            "430/430 [==============================] - 1s 2ms/step - loss: 0.0362 - accuracy: 0.9871 - val_loss: 0.0376 - val_accuracy: 0.9841\n",
            "Epoch 43/50\n",
            "430/430 [==============================] - 1s 2ms/step - loss: 0.0354 - accuracy: 0.9858 - val_loss: 0.0367 - val_accuracy: 0.9858\n",
            "Epoch 44/50\n",
            "430/430 [==============================] - 1s 2ms/step - loss: 0.0345 - accuracy: 0.9863 - val_loss: 0.0355 - val_accuracy: 0.9841\n",
            "Epoch 45/50\n",
            "430/430 [==============================] - 1s 2ms/step - loss: 0.0332 - accuracy: 0.9865 - val_loss: 0.0344 - val_accuracy: 0.9847\n",
            "Epoch 46/50\n",
            "430/430 [==============================] - 1s 2ms/step - loss: 0.0327 - accuracy: 0.9871 - val_loss: 0.0341 - val_accuracy: 0.9858\n",
            "Epoch 47/50\n",
            "430/430 [==============================] - 1s 2ms/step - loss: 0.0317 - accuracy: 0.9870 - val_loss: 0.0362 - val_accuracy: 0.9871\n",
            "Epoch 48/50\n",
            "430/430 [==============================] - 1s 2ms/step - loss: 0.0309 - accuracy: 0.9871 - val_loss: 0.0344 - val_accuracy: 0.9895\n",
            "Epoch 49/50\n",
            "430/430 [==============================] - 1s 2ms/step - loss: 0.0299 - accuracy: 0.9879 - val_loss: 0.0319 - val_accuracy: 0.9858\n",
            "Epoch 50/50\n",
            "430/430 [==============================] - 1s 2ms/step - loss: 0.0294 - accuracy: 0.9884 - val_loss: 0.0305 - val_accuracy: 0.9851\n"
          ]
        },
        {
          "output_type": "execute_result",
          "data": {
            "text/plain": [
              "<keras.callbacks.History at 0x7f895c77d2d0>"
            ]
          },
          "metadata": {},
          "execution_count": 15
        }
      ]
    },
    {
      "cell_type": "code",
      "source": [
        "model.evaluate(test_data, test_label)"
      ],
      "metadata": {
        "colab": {
          "base_uri": "https://localhost:8080/"
        },
        "id": "bbhM5N9Lo9BB",
        "outputId": "67540246-1766-4b50-9e81-c2bf2f8da2e2"
      },
      "execution_count": 16,
      "outputs": [
        {
          "output_type": "stream",
          "name": "stdout",
          "text": [
            "92/92 [==============================] - 0s 1ms/step - loss: 0.0280 - accuracy: 0.9877\n"
          ]
        },
        {
          "output_type": "execute_result",
          "data": {
            "text/plain": [
              "[0.02796931564807892, 0.987683892250061]"
            ]
          },
          "metadata": {},
          "execution_count": 16
        }
      ]
    },
    {
      "cell_type": "code",
      "source": [
        "classifications = model.predict(test_data)\n",
        "print(classifications[0])\n",
        "print(test_label[0])"
      ],
      "metadata": {
        "colab": {
          "base_uri": "https://localhost:8080/"
        },
        "id": "kchOKnmEpIyz",
        "outputId": "2155b5ae-3cf4-4dfe-afd8-7ad5e0a58a53"
      },
      "execution_count": null,
      "outputs": [
        {
          "output_type": "stream",
          "name": "stdout",
          "text": [
            "[9.9917442e-01 8.2551467e-04]\n",
            "[0]\n"
          ]
        }
      ]
    }
  ]
}